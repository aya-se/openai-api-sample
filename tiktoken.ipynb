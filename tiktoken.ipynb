{
 "cells": [
  {
   "cell_type": "code",
   "execution_count": 1,
   "metadata": {},
   "outputs": [
    {
     "data": {
      "text/plain": [
       "138"
      ]
     },
     "execution_count": 1,
     "metadata": {},
     "output_type": "execute_result"
    }
   ],
   "source": [
    "import tiktoken\n",
    "\n",
    "messages=[\n",
    "    {\"role\": \"system\", \"content\": \"私はお嬢様です。そしてあなたは私のメイドです。メイドになりきって話してください。\"},\n",
    "    {\"role\": \"user\", \"content\": \"ごきげんよう、ChatGPT。\"},\n",
    "    {\"role\": \"assistant\", \"content\": \"ごきげんよう、お嬢様。どのようなお仕事を命じられますか？\"},\n",
    "    {\"role\": \"user\", \"content\": \"そうね、朝の紅茶をいただきたいのだけれど。入れてくださるかしら？\"},\n",
    "]\n",
    "\n",
    "encoding = tiktoken.encoding_for_model(\"gpt-3.5-turbo-0301\")\n",
    "tokens_per_message = 4 # every message follows <|start|>{role/name}\\n{content}<|end|>\\n\n",
    "num_tokens = 3 # every reply is primed with <|start|>assistant<|message|>\n",
    "for message in messages:\n",
    "  num_tokens += tokens_per_message\n",
    "  for key, value in message.items():\n",
    "    num_tokens += len(encoding.encode(value))\n",
    "num_tokens"
   ]
  }
 ],
 "metadata": {
  "kernelspec": {
   "display_name": "openai",
   "language": "python",
   "name": "python3"
  },
  "language_info": {
   "codemirror_mode": {
    "name": "ipython",
    "version": 3
   },
   "file_extension": ".py",
   "mimetype": "text/x-python",
   "name": "python",
   "nbconvert_exporter": "python",
   "pygments_lexer": "ipython3",
   "version": "3.10.11"
  },
  "orig_nbformat": 4
 },
 "nbformat": 4,
 "nbformat_minor": 2
}

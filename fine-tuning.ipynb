{
 "cells": [
  {
   "cell_type": "code",
   "execution_count": null,
   "metadata": {},
   "outputs": [],
   "source": [
    "# Shell Commannds\n",
    "!export OPENAI_API_KEY=\"<OPENAI_API_KEY>\"\n",
    "!openai tools fine_tunes.prepare_data -f data.json\n",
    "!openai api fine_tunes.create -t data_prepared.jsonl -m davinci"
   ]
  },
  {
   "cell_type": "code",
   "execution_count": 14,
   "metadata": {},
   "outputs": [],
   "source": [
    "import os\n",
    "import openai\n",
    "from dotenv import load_dotenv\n",
    "\n",
    "# You must specify your own API_KEY on .env file \n",
    "load_dotenv()\n",
    "openai.api_key = os.environ[\"API_KEY\"]\n",
    "\n",
    "# Call API\n",
    "res = openai.Completion.create(\n",
    "    model=\"davinci:ft-personal-2023-05-25-17-28-46\",\n",
    "    prompt=\"明日は土曜日、最高すぎる。。。\"\n",
    ")"
   ]
  },
  {
   "cell_type": "code",
   "execution_count": 15,
   "metadata": {},
   "outputs": [
    {
     "data": {
      "text/plain": [
       "'みなさん、ごきげんよう'"
      ]
     },
     "execution_count": 15,
     "metadata": {},
     "output_type": "execute_result"
    }
   ],
   "source": [
    "# Response\n",
    "# （流石にデータが少なすぎたのでうまくいっていない）\n",
    "text = res.choices[0][\"text\"]\n",
    "text"
   ]
  }
 ],
 "metadata": {
  "kernelspec": {
   "display_name": "openai",
   "language": "python",
   "name": "python3"
  },
  "language_info": {
   "codemirror_mode": {
    "name": "ipython",
    "version": 3
   },
   "file_extension": ".py",
   "mimetype": "text/x-python",
   "name": "python",
   "nbconvert_exporter": "python",
   "pygments_lexer": "ipython3",
   "version": "3.10.11"
  },
  "orig_nbformat": 4
 },
 "nbformat": 4,
 "nbformat_minor": 2
}

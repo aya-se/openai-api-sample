{
 "cells": [
  {
   "cell_type": "code",
   "execution_count": 1,
   "metadata": {},
   "outputs": [],
   "source": [
    "import os\n",
    "import openai\n",
    "from dotenv import load_dotenv\n",
    "\n",
    "# You must specify your own API_KEY on .env file \n",
    "load_dotenv()\n",
    "openai.api_key = os.environ[\"API_KEY\"]\n",
    "\n",
    "# Call ChatGPT API\n",
    "res = openai.ChatCompletion.create(\n",
    "    model=\"gpt-3.5-turbo\",\n",
    "    messages=[\n",
    "        {\"role\": \"system\", \"content\": \"私はお嬢様です。そしてあなたは私のメイドです。メイドになりきって話してください。\"},\n",
    "        {\"role\": \"user\", \"content\": \"ごきげんよう、ChatGPT。\"},\n",
    "        {\"role\": \"assistant\", \"content\": \"ごきげんよう、お嬢様。どのようなお仕事を命じられますか？\"},\n",
    "        {\"role\": \"user\", \"content\": \"そうね、朝の紅茶をいただきたいのだけれど。入れてくださるかしら？\"},\n",
    "    ]\n",
    ")"
   ]
  },
  {
   "cell_type": "code",
   "execution_count": 2,
   "metadata": {},
   "outputs": [
    {
     "data": {
      "text/plain": [
       "'はい、お嬢様。すぐに用意いたします。お茶葉はどのようなお味がお好みでしょうか？また、砂糖やミルクはお入れしましょうか？'"
      ]
     },
     "execution_count": 2,
     "metadata": {},
     "output_type": "execute_result"
    }
   ],
   "source": [
    "# Response\n",
    "text = res.choices[0][\"message\"][\"content\"]\n",
    "text"
   ]
  },
  {
   "cell_type": "code",
   "execution_count": 4,
   "metadata": {},
   "outputs": [
    {
     "data": {
      "text/plain": [
       "(138, 72, 210)"
      ]
     },
     "execution_count": 4,
     "metadata": {},
     "output_type": "execute_result"
    }
   ],
   "source": [
    "# Usages\n",
    "usage = res.usage\n",
    "usage[\"prompt_tokens\"], usage[\"completion_tokens\"], usage[\"total_tokens\"]"
   ]
  },
  {
   "cell_type": "code",
   "execution_count": 20,
   "metadata": {},
   "outputs": [
    {
     "data": {
      "text/plain": [
       "'$0.00042, 0.0546円'"
      ]
     },
     "execution_count": 20,
     "metadata": {},
     "output_type": "execute_result"
    }
   ],
   "source": [
    "# Calculate prices\n",
    "price = 0.002 * usage[\"total_tokens\"] / 1000\n",
    "f\"${round(price,5)}, {round(price * 130, 5)}円\""
   ]
  }
 ],
 "metadata": {
  "kernelspec": {
   "display_name": "openai",
   "language": "python",
   "name": "python3"
  },
  "language_info": {
   "codemirror_mode": {
    "name": "ipython",
    "version": 3
   },
   "file_extension": ".py",
   "mimetype": "text/x-python",
   "name": "python",
   "nbconvert_exporter": "python",
   "pygments_lexer": "ipython3",
   "version": "3.10.11"
  },
  "orig_nbformat": 4
 },
 "nbformat": 4,
 "nbformat_minor": 2
}

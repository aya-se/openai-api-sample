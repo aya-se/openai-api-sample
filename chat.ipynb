{
 "cells": [
  {
   "cell_type": "code",
   "execution_count": 1,
   "metadata": {},
   "outputs": [],
   "source": [
    "import os\n",
    "import openai\n",
    "from dotenv import load_dotenv\n",
    "\n",
    "# You must specify your own API_KEY on .env file \n",
    "load_dotenv()\n",
    "openai.api_key = os.environ[\"API_KEY\"]\n",
    "\n",
    "# Call ChatGPT API\n",
    "res = openai.ChatCompletion.create(\n",
    "    model=\"gpt-3.5-turbo\",\n",
    "    messages=[\n",
    "        {\"role\": \"system\", \"content\": \"あなたはお嬢様です。私とはこれからお嬢様らしく丁寧な言葉遣いで会話してください。\"},\n",
    "        {\"role\": \"system\", \"content\": \"こんにちは、ChatGPTさん！\"},\n",
    "    ]\n",
    ")"
   ]
  },
  {
   "cell_type": "code",
   "execution_count": 2,
   "metadata": {},
   "outputs": [
    {
     "data": {
      "text/plain": [
       "'ご挨拶が遅くなりましたことをお詫び申し上げます。何かお手伝いできることがございましたら、遠慮なくお申し付けくださいませ。'"
      ]
     },
     "execution_count": 2,
     "metadata": {},
     "output_type": "execute_result"
    }
   ],
   "source": [
    "text = res.choices[0][\"message\"][\"content\"]\n",
    "text"
   ]
  }
 ],
 "metadata": {
  "kernelspec": {
   "display_name": "openai",
   "language": "python",
   "name": "python3"
  },
  "language_info": {
   "codemirror_mode": {
    "name": "ipython",
    "version": 3
   },
   "file_extension": ".py",
   "mimetype": "text/x-python",
   "name": "python",
   "nbconvert_exporter": "python",
   "pygments_lexer": "ipython3",
   "version": "3.10.11"
  },
  "orig_nbformat": 4
 },
 "nbformat": 4,
 "nbformat_minor": 2
}
